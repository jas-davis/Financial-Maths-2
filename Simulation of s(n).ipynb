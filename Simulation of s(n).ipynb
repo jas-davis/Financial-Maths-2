{
 "cells": [
  {
   "cell_type": "markdown",
   "metadata": {},
   "source": [
    "# Tutorial 9  - Recursive Moments: Deterministic and Simulated"
   ]
  },
  {
   "cell_type": "code",
   "execution_count": null,
   "metadata": {
    "collapsed": true
   },
   "outputs": [],
   "source": [
    "import numpy as np\n",
    "\n",
    "LOWER = 0.04\n",
    "UPPER = 0.12"
   ]
  },
  {
   "cell_type": "markdown",
   "metadata": {},
   "source": [
    "# Determinstic Moments by Recursion\n",
    "Step 1 - calculate $v_t = E(1+i)^t$"
   ]
  },
  {
   "cell_type": "code",
   "execution_count": null,
   "metadata": {},
   "outputs": [],
   "source": [
    "def calculate_v_n(LOWER,UPPER,n):\n",
    "    v = 1/((n+1)*(UPPER-LOWER))*(((1+UPPER)**(n+1))-(1+LOWER)**(n+1))\n",
    "    return v\n",
    "\n",
    "v_1 = calculate_v_n(LOWER,UPPER,1)\n",
    "v_2 = calculate_v_n(LOWER,UPPER,2)\n",
    "v_3 = calculate_v_n(LOWER,UPPER,3)\n",
    "v_4 = calculate_v_n(LOWER,UPPER,4)\n",
    "\n",
    "print(np.round(v_1,6), np.round(v_2,6), np.round(v_3,6), np.round(v_4,6)) "
   ]
  },
  {
   "cell_type": "markdown",
   "metadata": {},
   "source": [
    "Compute each moment deploying resursive algoritm"
   ]
  },
  {
   "cell_type": "code",
   "execution_count": null,
   "metadata": {},
   "outputs": [],
   "source": [
    "def recursive_first_moment(n,v_1):\n",
    "    if n == 0:     \n",
    "        return 0\n",
    "    else:\n",
    "        return (1 + recursive_first_moment(n-1,v_1))*(v_1)\n",
    "        \n",
    "s_n_1 = recursive_first_moment(20,v_1)\n",
    "print(np.round(s_n_1,6))"
   ]
  },
  {
   "cell_type": "code",
   "execution_count": null,
   "metadata": {},
   "outputs": [],
   "source": [
    "def recursive_second_moment(n,v_1,v_2):\n",
    "    if n == 0:\n",
    "        return 0\n",
    "    else:\n",
    "        return v_2 * (recursive_second_moment(n-1,v_1,v_2)+2*recursive_first_moment(n-1,v_1) + 1)\n",
    "    \n",
    "s_n_2 = recursive_second_moment(20,v_1,v_2)\n",
    "print(np.round(s_n_2,6))"
   ]
  },
  {
   "cell_type": "code",
   "execution_count": null,
   "metadata": {},
   "outputs": [],
   "source": [
    "def recursive_third_moment(n,v_1,v_2,v_3):\n",
    "    if n == 0:\n",
    "        return 0\n",
    "    else:\n",
    "        return v_3 * (recursive_third_moment(n-1,v_1,v_2,v_3) + 3* recursive_second_moment(n-1,v_1,v_2) + \n",
    "                      3*recursive_first_moment(n-1,v_1) + 1)\n",
    "    \n",
    "s_n_3 = recursive_third_moment(20,v_1,v_2,v_3)\n",
    "print(np.round(s_n_3,6))"
   ]
  },
  {
   "cell_type": "markdown",
   "metadata": {},
   "source": [
    "What is the function for the 4th moment?"
   ]
  },
  {
   "cell_type": "markdown",
   "metadata": {},
   "source": [
    "Results for Variance and Standard Deviation"
   ]
  },
  {
   "cell_type": "code",
   "execution_count": null,
   "metadata": {},
   "outputs": [],
   "source": [
    "variance_s_n = s_n_2 - (s_n_1)**2\n",
    "print(\"Deterministic: Mean, Variance and Standard Dev\")\n",
    "print(np.round(s_n_1,6))\n",
    "print(np.round(variance_s_n,6))\n",
    "print(variance_s_n**0.5)"
   ]
  },
  {
   "cell_type": "markdown",
   "metadata": {},
   "source": [
    "# Now we will simulate these results\n",
    "Simulate a 1 period return from Uniform 4% to 12%"
   ]
  },
  {
   "cell_type": "code",
   "execution_count": null,
   "metadata": {},
   "outputs": [],
   "source": [
    "sim_ret = np.random.uniform(LOWER,UPPER)\n",
    "print(np.round(sim_ret,6))"
   ]
  },
  {
   "cell_type": "code",
   "execution_count": null,
   "metadata": {
    "collapsed": true
   },
   "outputs": [],
   "source": [
    "def sim_ret(lower,upper):\n",
    "    return np.random.uniform(lower,upper)"
   ]
  },
  {
   "cell_type": "markdown",
   "metadata": {},
   "source": [
    "Define our recursive function for our simulated accumulation at n=20"
   ]
  },
  {
   "cell_type": "code",
   "execution_count": null,
   "metadata": {},
   "outputs": [],
   "source": [
    "def sim_recursive_accum(n):\n",
    "    if n == 0:     \n",
    "        return 0\n",
    "    else:\n",
    "        return (1 + sim_recursive_accum(n-1))*(1+sim_ret(LOWER,UPPER))\n",
    "        \n",
    "epoch_1 = sim_recursive_accum(20)\n",
    "print(round(epoch_1,6))"
   ]
  },
  {
   "cell_type": "markdown",
   "metadata": {},
   "source": [
    "$1 payment at time 0 and at unit intervals for n payments, valued at n, i is U[0.04,0.12]\n",
    "\n",
    "Generating an [epoch x 4] matrix with increasing exponentials of our simulated result in each column\n"
   ]
  },
  {
   "cell_type": "code",
   "execution_count": null,
   "metadata": {
    "collapsed": true
   },
   "outputs": [],
   "source": [
    "import numpy as np\n",
    "import time\n",
    "\n",
    "LOWER = 0.04\n",
    "UPPER = 0.12\n",
    "\n",
    "def sim_ret(lower,upper):\n",
    "    return np.random.uniform(lower,upper)\n",
    "\n",
    "def sim_recursive_accum(n):\n",
    "    if n == 0:     \n",
    "        return 0\n",
    "    else:\n",
    "        return (1 + sim_recursive_accum(n-1))*(1+sim_ret(LOWER,UPPER))\n",
    "\n",
    "def simulate(epochs,term):\n",
    "    results = np.zeros((epochs,4))\n",
    "    for i in range(0, epochs):\n",
    "        for j in range(0,4):\n",
    "            results[i,j] = sim_recursive_accum(term)**(j+1)\n",
    "    return results\n",
    "\n"
   ]
  },
  {
   "cell_type": "markdown",
   "metadata": {},
   "source": [
    "Now call the function for the number of simulations (epochs) you want to do and the term(n)"
   ]
  },
  {
   "cell_type": "code",
   "execution_count": null,
   "metadata": {},
   "outputs": [],
   "source": [
    "X = simulate(50,20)\n",
    "print('OK - Done')"
   ]
  },
  {
   "cell_type": "code",
   "execution_count": null,
   "metadata": {},
   "outputs": [],
   "source": [
    "%matplotlib notebook\n",
    "\n",
    "import matplotlib\n",
    "import numpy as np\n",
    "import matplotlib.pyplot as plt\n",
    "\n",
    "fig1 = plt.figure(1)\n",
    "fig1.subplots_adjust(left=0.125, bottom=0.1, right=0.9, top=0.9,\n",
    "                      wspace=0.4, hspace=0.4)\n",
    "ax1 = fig1.add_subplot(2,2,1)\n",
    "ax1.hist(X[:,0], 50, facecolor='g', normed=1, alpha=0.75)\n",
    "ax1.set_title(\"First Moment\")\n",
    "ax1.grid(True)\n",
    "\n",
    "\n",
    "ax2 = fig1.add_subplot(2,2,2)\n",
    "ax2.hist(X[:,1], 50, facecolor='r', normed=1, alpha=0.75)\n",
    "ax2.set_title(\"Second Moment\")\n",
    "ax2.grid(True)\n",
    "\n",
    "\n",
    "ax3 = fig1.add_subplot(2,2,3)\n",
    "ax3.hist(X[:,2], 50, facecolor='b', normed=1, alpha=0.75)\n",
    "ax3.set_title(\"Third Moment\")\n",
    "ax3.grid(True)\n",
    "\n",
    "\n",
    "ax4 = fig1.add_subplot(2,2,4)\n",
    "ax4.hist(X[:,3], 50, facecolor='burlywood', normed=1, alpha=0.75)\n",
    "ax4.set_title(\"Fourth Moment\")\n",
    "ax4.grid(True)\n",
    "\n",
    "plt.show()"
   ]
  },
  {
   "cell_type": "code",
   "execution_count": null,
   "metadata": {},
   "outputs": [],
   "source": [
    "means= np.mean(X, axis=0)\n",
    "means = means.reshape(1,(means.shape[0]))\n",
    "\n",
    "print(\"Size of my Results Matrix\")\n",
    "print(X.shape)\n",
    "print()\n",
    "\n",
    "print(\"Simulated Moments\")\n",
    "print(np.round(means,5))\n",
    "print()\n",
    "\n",
    "s_n_1 = means[0,0]\n",
    "s_n_2 = means[0,1]\n",
    "\n",
    "print(\"Simulated: Mean, Second Moment, Variance and Standard Dev\")\n",
    "print(s_n_1)\n",
    "print(s_n_2)\n",
    "variance_s_n = s_n_2 - (s_n_1)**2\n",
    "print(variance_s_n)\n",
    "print(variance_s_n**0.5)\n",
    "print()"
   ]
  },
  {
   "cell_type": "markdown",
   "metadata": {},
   "source": [
    "# Many many many simulations "
   ]
  },
  {
   "cell_type": "code",
   "execution_count": null,
   "metadata": {},
   "outputs": [],
   "source": [
    "os.system(\"say Good Afternoon Financial Mathematics Two\")\n",
    "time.sleep(0.5)\n",
    "os.system(\"say Also, Good Afternoon to you too Richard\")\n",
    "time.sleep(0.5)\n",
    "os.system(\"say My name is Ethan, and I will be your simulation butler today\")\n",
    "time.sleep(0.5)\n",
    "os.system(\"say So many simulations, back in a bit...\")\n",
    "\n",
    "X = simulate(10000,20)\n",
    "\n",
    "\n",
    "os.system(\"say OK, I am done. That was hard work\")\n",
    "os.system(\"say Please run the next block of code to see my results\")\n",
    "\n",
    "print('OK - Done')"
   ]
  },
  {
   "cell_type": "code",
   "execution_count": null,
   "metadata": {},
   "outputs": [],
   "source": [
    "X = simulate(10,20)\n",
    "print('OK - Done')"
   ]
  },
  {
   "cell_type": "markdown",
   "metadata": {},
   "source": [
    "Histograms of our the results"
   ]
  },
  {
   "cell_type": "code",
   "execution_count": null,
   "metadata": {},
   "outputs": [],
   "source": [
    "%matplotlib notebook\n",
    "\n",
    "import matplotlib\n",
    "import numpy as np\n",
    "import matplotlib.pyplot as plt\n",
    "\n",
    "fig1 = plt.figure(1)\n",
    "fig1.subplots_adjust(left=0.125, bottom=0.1, right=0.9, top=0.9,\n",
    "                      wspace=0.4, hspace=0.4)\n",
    "ax1 = fig1.add_subplot(2,2,1)\n",
    "ax1.hist(X[:,0], 50, facecolor='g', normed=1, alpha=0.75)\n",
    "ax1.set_title(\"First Moment\")\n",
    "ax1.grid(True)\n",
    "\n",
    "\n",
    "ax2 = fig1.add_subplot(2,2,2)\n",
    "ax2.hist(X[:,1], 50, facecolor='r', normed=1, alpha=0.75)\n",
    "ax2.set_title(\"Second Moment\")\n",
    "ax2.grid(True)\n",
    "\n",
    "\n",
    "ax3 = fig1.add_subplot(2,2,3)\n",
    "ax3.hist(X[:,2], 50, facecolor='b', normed=1, alpha=0.75)\n",
    "ax3.set_title(\"Third Moment\")\n",
    "ax3.grid(True)\n",
    "\n",
    "\n",
    "ax4 = fig1.add_subplot(2,2,4)\n",
    "ax4.hist(X[:,3], 50, facecolor='burlywood', normed=1, alpha=0.75)\n",
    "ax4.set_title(\"Fourth Moment\")\n",
    "ax4.grid(True)\n",
    "\n",
    "plt.show()"
   ]
  },
  {
   "cell_type": "code",
   "execution_count": null,
   "metadata": {},
   "outputs": [],
   "source": [
    "\n",
    "means= np.mean(X, axis=0)\n",
    "means = means.reshape(1,(means.shape[0]))\n",
    "\n",
    "print(\"Size of my Results Matrix\")\n",
    "print(X.shape)\n",
    "print()\n",
    "\n",
    "print(\"Simulated Moments\")\n",
    "print(np.round(means,5))\n",
    "print()\n",
    "\n",
    "s_n_1 = means[0,0]\n",
    "s_n_2 = means[0,1]\n",
    "\n",
    "print(\"Simulated: Mean, Second Moment, Variance and Standard Dev\")\n",
    "print(s_n_1)\n",
    "print(s_n_2)\n",
    "variance_s_n = s_n_2 - (s_n_1)**2\n",
    "print(variance_s_n)\n",
    "print(variance_s_n**0.5)\n",
    "print()\n",
    "\n"
   ]
  },
  {
   "cell_type": "markdown",
   "metadata": {},
   "source": [
    "# Deterministic 9.4(i)"
   ]
  },
  {
   "cell_type": "code",
   "execution_count": null,
   "metadata": {},
   "outputs": [],
   "source": [
    "import numpy as np\n",
    "\n",
    "LOWER = 0.04\n",
    "UPPER = 0.12\n",
    "INFLATION = 0.05\n",
    "\n",
    "def calculate_v_n(LOWER,UPPER,n):\n",
    "    v = 1/((n+1)*(UPPER-LOWER))*(((1+UPPER)**(n+1))-(1+LOWER)**(n+1))\n",
    "    return v\n",
    "\n",
    "v_1 = calculate_v_n(LOWER,UPPER,1)\n",
    "v_2 = calculate_v_n(LOWER,UPPER,2)\n",
    "v_3 = calculate_v_n(LOWER,UPPER,3)\n",
    "v_4 = calculate_v_n(LOWER,UPPER,4)\n",
    "\n",
    "print(np.round(v_1,6), np.round(v_2,6), np.round(v_3,6), np.round(v_4,6)) "
   ]
  },
  {
   "cell_type": "code",
   "execution_count": null,
   "metadata": {},
   "outputs": [],
   "source": [
    "def recursive_first_moment(n,v_1,INFLATION):\n",
    "    if n == 0:     \n",
    "        return 0\n",
    "    else:\n",
    "        return v_1 * ((1+INFLATION)**(n-1) + recursive_first_moment(n-1,v_1,INFLATION))\n",
    "        \n",
    "s_n_1 = recursive_first_moment(20,v_1,INFLATION)\n",
    "print(s_n_1)"
   ]
  },
  {
   "cell_type": "code",
   "execution_count": null,
   "metadata": {},
   "outputs": [],
   "source": [
    "def recursive_second_moment(n,v_1,v_2,INFLATION):\n",
    "    if n == 0:     \n",
    "        return 0\n",
    "    else:\n",
    "        return v_2 * ( 1 * (1+INFLATION)**(2*(n-1)) + \n",
    "                       2 * (((1+INFLATION)**(n-1)) * recursive_first_moment(n-1,v_1,INFLATION) ) + \n",
    "                       1 * (recursive_second_moment(n-1,v_1,v_2,INFLATION))) \n",
    "        \n",
    "s_n_2 = recursive_second_moment(20,v_1,v_2,INFLATION)\n",
    "print(s_n_2)"
   ]
  },
  {
   "cell_type": "code",
   "execution_count": null,
   "metadata": {},
   "outputs": [],
   "source": [
    "variance_s_n = s_n_2 - (s_n_1)**2\n",
    "print(variance_s_n)\n",
    "print(variance_s_n**0.5)"
   ]
  },
  {
   "cell_type": "markdown",
   "metadata": {},
   "source": [
    "# Simulated 9.4(i)"
   ]
  },
  {
   "cell_type": "code",
   "execution_count": null,
   "metadata": {
    "collapsed": true
   },
   "outputs": [],
   "source": [
    "import numpy as np\n",
    "import time\n",
    "\n",
    "LOWER = 0.04\n",
    "UPPER = 0.12\n",
    "INFLATION = 0.05\n",
    "\n",
    "def sim_ret(lower,upper):\n",
    "    return np.random.uniform(lower,upper)\n",
    "\n",
    "def sim_recursive_accum_inf(n,inflation):\n",
    "    if n == 0:     \n",
    "        return 0\n",
    "    else:\n",
    "        return ((1+inflation)**(n-1) + sim_recursive_accum_inf(n-1,inflation))*(1+sim_ret(LOWER,UPPER))\n",
    "\n",
    "def simulate_inf(epochs, term, inflation):\n",
    "    results = np.zeros((epochs,4))\n",
    "    for i in range(0, epochs):\n",
    "        for j in range(0,4):\n",
    "            results[i,j] = sim_recursive_accum_inf(term, inflation)**(j+1)\n",
    "    return results\n",
    "\n"
   ]
  },
  {
   "cell_type": "code",
   "execution_count": null,
   "metadata": {},
   "outputs": [],
   "source": [
    "\n",
    "\n",
    "Y = simulate_inf(100000,20,0.05)\n",
    "\n",
    "\n",
    "print(\"OK - I'm done\")\n"
   ]
  },
  {
   "cell_type": "code",
   "execution_count": null,
   "metadata": {},
   "outputs": [],
   "source": [
    "%matplotlib notebook\n",
    "\n",
    "import matplotlib\n",
    "import numpy as np\n",
    "import matplotlib.pyplot as plt\n",
    "\n",
    "fig1 = plt.figure(1)\n",
    "fig1.subplots_adjust(left=0.125, bottom=0.1, right=0.9, top=0.9,\n",
    "                      wspace=0.4, hspace=0.4)\n",
    "ax1 = fig1.add_subplot(2,2,1)\n",
    "ax1.hist(Y[:,0], 50, facecolor='g', normed=1, alpha=0.75)\n",
    "ax1.set_title(\"First Moment\")\n",
    "ax1.grid(True)\n",
    "\n",
    "\n",
    "ax2 = fig1.add_subplot(2,2,2)\n",
    "ax2.hist(Y[:,1], 50, facecolor='r', normed=1, alpha=0.75)\n",
    "ax2.set_title(\"Second Moment\")\n",
    "ax2.grid(True)\n",
    "\n",
    "\n",
    "ax3 = fig1.add_subplot(2,2,3)\n",
    "ax3.hist(Y[:,2], 50, facecolor='b', normed=1, alpha=0.75)\n",
    "ax3.set_title(\"Third Moment\")\n",
    "ax3.grid(True)\n",
    "\n",
    "\n",
    "ax4 = fig1.add_subplot(2,2,4)\n",
    "ax4.hist(Y[:,3], 50, facecolor='burlywood', normed=1, alpha=0.75)\n",
    "ax4.set_title(\"Fourth Moment\")\n",
    "ax4.grid(True)\n",
    "\n",
    "plt.show()"
   ]
  },
  {
   "cell_type": "code",
   "execution_count": null,
   "metadata": {},
   "outputs": [],
   "source": [
    "means= np.mean(Y, axis=0)\n",
    "means = means.reshape(1,(means.shape[0]))\n",
    "\n",
    "print(\"Size of my Results Matrix\")\n",
    "print(Y.shape)\n",
    "print()\n",
    "\n",
    "print(\"Simulated Moments\")\n",
    "print(np.round(means,5))\n",
    "print()\n",
    "\n",
    "print(\"Estimated Mean, Second Moment, Variance and Standard Dev\")\n",
    "s_n_1 = means[0,0]\n",
    "s_n_2 = means[0,1]\n",
    "print(s_n_1)\n",
    "print(s_n_2)\n",
    "\n",
    "variance_s_n = s_n_2 - (s_n_1)**2\n",
    "print(s_n_2 - (s_n_1)**2)\n",
    "print(variance_s_n**0.5)\n"
   ]
  },
  {
   "cell_type": "code",
   "execution_count": null,
   "metadata": {
    "collapsed": true
   },
   "outputs": [],
   "source": []
  }
 ],
 "metadata": {
  "kernelspec": {
   "display_name": "Python 3",
   "language": "python",
   "name": "python3"
  },
  "language_info": {
   "codemirror_mode": {
    "name": "ipython",
    "version": 3
   },
   "file_extension": ".py",
   "mimetype": "text/x-python",
   "name": "python",
   "nbconvert_exporter": "python",
   "pygments_lexer": "ipython3",
   "version": "3.6.1"
  }
 },
 "nbformat": 4,
 "nbformat_minor": 2
}
