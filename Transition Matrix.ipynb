{
 "cells": [
  {
   "cell_type": "markdown",
   "metadata": {},
   "source": [
    "# Question 1 & 3 / 6.3 Textbook"
   ]
  },
  {
   "cell_type": "code",
   "execution_count": null,
   "metadata": {
    "collapsed": true
   },
   "outputs": [],
   "source": [
    "import numpy as np\n",
    "from numpy import linalg as la"
   ]
  },
  {
   "cell_type": "markdown",
   "metadata": {},
   "source": [
    "# Our Transition Matrix here:\n",
    "$\\begin{pmatrix} \n",
    "    p_{AA}&p_{AB}&p_{AD} \\\\\n",
    "    p_{BA}&p_{BB}&p_{BD} \\\\\n",
    "    p_{DA}&p_{DB}&p_{DD} \\end{pmatrix}$\n",
    "    "
   ]
  },
  {
   "cell_type": "code",
   "execution_count": null,
   "metadata": {
    "collapsed": true
   },
   "outputs": [],
   "source": [
    "P = np.array([[0.95,0.045,0.005],[0.00,0.975,0.025],[0,0,1]])\n",
    "print(P)\n",
    "print(P.shape)"
   ]
  },
  {
   "cell_type": "markdown",
   "metadata": {},
   "source": [
    "## Simple P after 2 states\n",
    "$ P^2 = {\\begin{pmatrix} \n",
    "    p_{AA}&p_{AB}&p_{AD} \\\\\n",
    "    p_{BA}&p_{BB}&p_{BD} \\\\\n",
    "    p_{DA}&p_{DB}&p_{DD} \\end{pmatrix}}^{ 2}$"
   ]
  },
  {
   "cell_type": "code",
   "execution_count": null,
   "metadata": {
    "collapsed": true
   },
   "outputs": [],
   "source": [
    "P_2 = la.matrix_power(P,2)\n",
    "print(P_2)\n",
    "print(P_2.shape)"
   ]
  },
  {
   "cell_type": "markdown",
   "metadata": {},
   "source": [
    "## Let's Define a Function for P exponential"
   ]
  },
  {
   "cell_type": "code",
   "execution_count": null,
   "metadata": {
    "collapsed": true
   },
   "outputs": [],
   "source": [
    "def matrix_n(start,N):\n",
    "    matrix_exp = la.matrix_power(start,N)\n",
    "    return matrix_exp"
   ]
  },
  {
   "cell_type": "code",
   "execution_count": null,
   "metadata": {},
   "outputs": [],
   "source": [
    "P_N = matrix_n(P,2)\n",
    "print(P_N)\n",
    "print(P_N.shape)"
   ]
  },
  {
   "cell_type": "markdown",
   "metadata": {},
   "source": [
    "# What is the intuition when N gets larger and larger (long dated)\n",
    "$ \\lim_{N \\to \\infty} P^N $"
   ]
  },
  {
   "cell_type": "markdown",
   "metadata": {},
   "source": [
    "## Let's set up some row vectors to define our Starting State"
   ]
  },
  {
   "cell_type": "code",
   "execution_count": null,
   "metadata": {
    "collapsed": true
   },
   "outputs": [],
   "source": [
    "State_A = np.array([1,0,0])\n",
    "State_B = np.array([0,1,0])\n",
    "State_D = np.array([0,0,1])"
   ]
  },
  {
   "cell_type": "code",
   "execution_count": null,
   "metadata": {},
   "outputs": [],
   "source": [
    "print(State_A)\n",
    "print(\"Start in A:\",State_A)\n",
    "print(\"Start in B:\",State_B)\n",
    "print(\"Start in D:\",State_D)"
   ]
  },
  {
   "cell_type": "code",
   "execution_count": null,
   "metadata": {
    "collapsed": true
   },
   "outputs": [],
   "source": [
    "# Avoid \"rank one\" arrays\n"
   ]
  },
  {
   "cell_type": "code",
   "execution_count": null,
   "metadata": {},
   "outputs": [],
   "source": [
    "print(State_A.shape)"
   ]
  },
  {
   "cell_type": "code",
   "execution_count": null,
   "metadata": {},
   "outputs": [],
   "source": [
    "State_A = State_A.reshape(1,(State_A.shape[0]))\n",
    "print(State_A.shape)"
   ]
  },
  {
   "cell_type": "code",
   "execution_count": null,
   "metadata": {},
   "outputs": [],
   "source": [
    "State_B = State_B.reshape(1,(State_B.shape[0]))\n",
    "State_D = State_D.reshape(1,(State_D.shape[0]))\n",
    "\n",
    "print(State_B.shape)\n",
    "print(State_D.shape)"
   ]
  },
  {
   "cell_type": "markdown",
   "metadata": {},
   "source": [
    "## This row vector represents all the probabilities of each state after 2 periods after starting in A"
   ]
  },
  {
   "cell_type": "code",
   "execution_count": null,
   "metadata": {},
   "outputs": [],
   "source": [
    "A_2 = np.dot(State_A,matrix_n(P,2))\n",
    "print(\"Bond A probs after 2 years:\", A_2)"
   ]
  },
  {
   "cell_type": "markdown",
   "metadata": {},
   "source": [
    "# And after 10 periods"
   ]
  },
  {
   "cell_type": "code",
   "execution_count": null,
   "metadata": {},
   "outputs": [],
   "source": [
    "A_10 = np.dot(State_A,matrix_n(P,10))\n",
    "print(\"Bond A probs after 10 years:\", A_10)"
   ]
  },
  {
   "cell_type": "markdown",
   "metadata": {},
   "source": [
    "## Define some column vectors so we can utilise matrix algebra to calculate probabilies of certain states after n periods"
   ]
  },
  {
   "cell_type": "code",
   "execution_count": null,
   "metadata": {
    "collapsed": true
   },
   "outputs": [],
   "source": [
    "now_A = np.array([[1],[0],[0]])\n",
    "\n",
    "now_B = np.array([[0],[1],[0]])\n",
    "\n",
    "default = np.array([[0],[0],[1]])\n",
    "\n",
    "now_A_or_B = np.array([[1],[1],[0]])"
   ]
  },
  {
   "cell_type": "markdown",
   "metadata": {},
   "source": [
    "# check for rank 1"
   ]
  },
  {
   "cell_type": "code",
   "execution_count": null,
   "metadata": {},
   "outputs": [],
   "source": [
    "print(now_A)\n",
    "print(now_A.shape)\n",
    "print(now_B.shape)\n",
    "print(default.shape)"
   ]
  },
  {
   "cell_type": "markdown",
   "metadata": {},
   "source": [
    "# Note Python Numpy is clever and does what is called \"Broadcasting\" so (1 - default) works"
   ]
  },
  {
   "cell_type": "code",
   "execution_count": null,
   "metadata": {},
   "outputs": [],
   "source": [
    "print(\"default\")\n",
    "print(default)\n",
    "\n",
    "print(\"1-default\")\n",
    "print(1-default)\n",
    "\n",
    "print(\"Either A or B\")\n",
    "print(now_A_or_B)"
   ]
  },
  {
   "cell_type": "markdown",
   "metadata": {},
   "source": [
    "## Need to post multiply [Bond row vector] * [Pn] with [column vector] to obtain n-state probs"
   ]
  },
  {
   "cell_type": "code",
   "execution_count": null,
   "metadata": {},
   "outputs": [],
   "source": [
    "N = 2\n",
    "print(matrix_n(P,N))"
   ]
  },
  {
   "cell_type": "markdown",
   "metadata": {},
   "source": [
    "# Pre-multypying by Initial State A gets all probs for Now given started in State A"
   ]
  },
  {
   "cell_type": "code",
   "execution_count": null,
   "metadata": {},
   "outputs": [],
   "source": [
    "print(np.dot(State_A,matrix_n(P,N)))"
   ]
  },
  {
   "cell_type": "markdown",
   "metadata": {},
   "source": [
    "# Post multiply to extract probabilities of certain states now given started in State A\n",
    "# The dimension of this will be 1 x 1"
   ]
  },
  {
   "cell_type": "code",
   "execution_count": null,
   "metadata": {
    "collapsed": true
   },
   "outputs": [],
   "source": [
    "Prob_A_still_A = np.dot(np.dot(State_A,matrix_n(P,N)),now_A)\n",
    "\n",
    "Prob_A_now_B = np.dot(np.dot(State_A,matrix_n(P,N)),now_B)\n",
    "\n",
    "Prob_A_default = np.dot(np.dot(State_A,matrix_n(P,N)),default)\n",
    "\n",
    "Prob_A_inBorA = np.dot(np.dot(State_A,matrix_n(P,N)),now_A_or_B)"
   ]
  },
  {
   "cell_type": "code",
   "execution_count": null,
   "metadata": {},
   "outputs": [],
   "source": [
    "print(\"Prob A still A:\", Prob_A_still_A)\n",
    "print(\"Prob A now B:\" , Prob_A_now_B)\n",
    "print(\"Prob A default:\",Prob_A_default)\n",
    "print(\"Prob A is B or A:\", Prob_A_inBorA)\n",
    "print(\"Prob A not default:\",1-Prob_A_default)"
   ]
  },
  {
   "cell_type": "markdown",
   "metadata": {},
   "source": [
    "## Lets work out probs of each state for Bond A for longer periods\n",
    "See how the range works - the numbers make sense as P to the 0 is the identity matrix"
   ]
  },
  {
   "cell_type": "code",
   "execution_count": null,
   "metadata": {},
   "outputs": [],
   "source": [
    "for n in range(0,10):\n",
    "    prob_state_k = np.dot(State_A,matrix_n(P,n))\n",
    "    print(n, prob_state_k)"
   ]
  },
  {
   "cell_type": "markdown",
   "metadata": {},
   "source": [
    "# Here I have adjusted the range so it works for a sensible number of years for us"
   ]
  },
  {
   "cell_type": "code",
   "execution_count": null,
   "metadata": {},
   "outputs": [],
   "source": [
    "for n in range(1,11):\n",
    "    survive = np.dot(np.dot(State_A,matrix_n(P,n)),1-default)\n",
    "    print(n, survive)"
   ]
  },
  {
   "cell_type": "markdown",
   "metadata": {},
   "source": [
    "# Initialising a matrix dimensions 10 x 1"
   ]
  },
  {
   "cell_type": "code",
   "execution_count": null,
   "metadata": {},
   "outputs": [],
   "source": [
    "X = np.zeros((10,1))\n",
    "print(X)\n",
    "print(\"Shape\")\n",
    "print(X.shape)"
   ]
  },
  {
   "cell_type": "markdown",
   "metadata": {},
   "source": [
    "# Introduce a for loop and note reference elements for Numpy arrays start at 0\n",
    "For j = 1 to n (Term of the bond is n periods) [k ratings states for bond]\n",
    "\n",
    "$\n",
    "P_{1,N} = \\begin{pmatrix}1 & 0 & 0 & \\cdots & 0\\end{pmatrix}_{1xk}*\n",
    "\\begin{pmatrix} \n",
    "    p_{1,1} & p_{1,2} & p_{1,3} & \\cdots & p_{1,k}\\\\\n",
    "    p_{2,1} & p_{2,2} & p_{2,3} & \\cdots & p_{1,k}\\\\\n",
    "    \\vdots  & \\vdots  & \\vdots & \\ddots & \\vdots \\\\\n",
    "    p_{n,1} & p_{n,2} & p_{n,3} & \\cdots & p_{n,k} \n",
    "    \\end{pmatrix}^N * \\begin{pmatrix}1 \\\\ 1 \\\\ 1 \\\\ \\vdots \\\\ 0\\end{pmatrix}_{nx1}$\n",
    "    "
   ]
  },
  {
   "cell_type": "code",
   "execution_count": null,
   "metadata": {
    "collapsed": true
   },
   "outputs": [],
   "source": [
    "X = np.zeros((10,4))\n",
    "for n in range(1,11):\n",
    "    survive = np.dot(np.dot(State_A,matrix_n(P,n)),1-default)\n",
    "    X[n-1,0] = survive\n",
    "    if n < 10:\n",
    "        X[n-1,1] = survive *3\n",
    "    else:\n",
    "        if n == 10:\n",
    "            X[n-1,1] = survive * 103\n",
    "    Risk_Adjusted_Cash_n = X[n-1,1]\n",
    "    X[n-1,2] = 1.06**-n\n",
    "    DF_n = X[n-1,2]\n",
    "    X[n-1,3] = Risk_Adjusted_Cash_n * DF_n\n",
    "print(X)\n",
    "EQV = np.sum(X[:,3])\n",
    "print(\"Bond Value:\", EQV)"
   ]
  },
  {
   "cell_type": "markdown",
   "metadata": {},
   "source": [
    "## We can generalise this for starting in A,B or D now, and for term, i, coupon and redemption"
   ]
  },
  {
   "cell_type": "code",
   "execution_count": 14,
   "metadata": {},
   "outputs": [
    {
     "name": "stdout",
     "output_type": "stream",
     "text": [
      "Doing some high-level calcs...\n",
      "[[  0.975        4.875        0.93457944   4.55607477]\n",
      " [  0.950625     4.753125     0.87343873   4.15156346]\n",
      " [  0.92685937   4.63429687   0.81629788   3.7829667 ]\n",
      " [  0.90368789   4.51843945   0.76289521   3.44709582]\n",
      " [  0.88109569   4.40547847   0.71298618   3.14104526]\n",
      " [  0.8590683    4.29534151   0.66634222   2.86216741]\n",
      " [  0.83759159   4.18795797   0.62274974   2.60804974]\n",
      " [  0.8166518    4.08325902   0.5820091    2.37649392]\n",
      " [  0.79623551   3.98117754   0.54393374   2.1654968 ]\n",
      " [  0.77632962   3.8816481    0.50834929   1.97323307]\n",
      " [  0.75692138   3.7846069    0.4750928    1.79803948]\n",
      " [  0.73799835  77.48982631   0.44401196  34.4064096 ]]\n",
      "Your bond which might default is worth:  67.268636031\n",
      "Have a nice day\n"
     ]
    }
   ],
   "source": [
    "import numpy as np\n",
    "from numpy import linalg as la\n",
    "\n",
    "def starting_state(rating):\n",
    "    if rating == 'A':\n",
    "        return np.array([1,0,0])\n",
    "    if rating == 'B':\n",
    "        return np.array([0,1,0])\n",
    "    if rating == 'D':\n",
    "        return np.array([0,0,1])\n",
    "    \n",
    "def matrix_n(start,N):\n",
    "    matrix_exp = la.matrix_power(start,N)\n",
    "    return matrix_exp\n",
    "\n",
    "def Value_My_Risky_Bond(rating, coupon, face, P, term, i, default):\n",
    "    X = np.zeros((term,4))\n",
    "    for n in range(1, term + 1):\n",
    "        \n",
    "        survive = np.dot(np.dot(starting_state(rating),matrix_n(P,n)),1-default)\n",
    "        X[n-1,0] = survive\n",
    "        \n",
    "        if n < term:\n",
    "            X[n-1,1] = survive * coupon\n",
    "        else:\n",
    "            if n == term:\n",
    "                X[n-1,1] = survive * (face+coupon)\n",
    "        Risk_Adjusted_Cash_n = X[n-1,1]\n",
    "        \n",
    "        X[n-1,2] = (1.+i)**-n\n",
    "        DF_n = X[n-1,2]\n",
    "        \n",
    "        X[n-1,3] = Risk_Adjusted_Cash_n * DF_n\n",
    "        \n",
    "        EQV = np.sum(X[:,3])\n",
    "        \n",
    "    print(\"Doing some high-level calcs...\")\n",
    "    print(X)\n",
    "    \n",
    "    \n",
    "    if EQV > 0:\n",
    "        print(\"Your bond which might default is worth: \",EQV)\n",
    "        print(\"Have a nice day\")\n",
    "    else:\n",
    "        print(\"Your bond which will default is worth: \",EQV)\n",
    "        print(\"Sorry, it looks your bond is worthless\")\n",
    "    return\n",
    "\n",
    "P = np.array([[0.95, 0.045, 0.005],\n",
    "              [0.00, 0.975, 0.025],\n",
    "              [0.00, 0.000, 1.000]])\n",
    "\n",
    "default = np.array([[0],[0],[1]])\n",
    "\n",
    "Value_My_Risky_Bond('B',5,100,P,12,0.07, default)\n",
    "\n"
   ]
  },
  {
   "cell_type": "code",
   "execution_count": null,
   "metadata": {
    "collapsed": true
   },
   "outputs": [],
   "source": []
  }
 ],
 "metadata": {
  "kernelspec": {
   "display_name": "Python 3",
   "language": "python",
   "name": "python3"
  },
  "language_info": {
   "codemirror_mode": {
    "name": "ipython",
    "version": 3
   },
   "file_extension": ".py",
   "mimetype": "text/x-python",
   "name": "python",
   "nbconvert_exporter": "python",
   "pygments_lexer": "ipython3",
   "version": "3.6.1"
  }
 },
 "nbformat": 4,
 "nbformat_minor": 2
}
